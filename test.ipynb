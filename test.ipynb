{
 "cells": [
  {
   "cell_type": "code",
   "execution_count": 8,
   "metadata": {},
   "outputs": [
    {
     "name": "stdout",
     "output_type": "stream",
     "text": [
      "7\n",
      "1 3\n",
      "1 2\n",
      "3 2\n",
      "1 3\n",
      "2 1\n",
      "2 3\n",
      "1 3\n"
     ]
    }
   ],
   "source": [
    "# N개를 1>3 하려면 N-1개를 2로 먼저 옮겨야 함.\n",
    "\n",
    "N = int(input())\n",
    "\n",
    "arr=[]\n",
    "\n",
    "def move_hanoi(start,end):\n",
    "    arr.append((start,end))\n",
    "def hanoi(num,start,mid,end):\n",
    "    if num==1:\n",
    "        move_hanoi(start,end)\n",
    "        return\n",
    "    else:\n",
    "        hanoi(num-1,start,end,mid)\n",
    "        move_hanoi(start,end)\n",
    "        hanoi(num-1,mid,start,end)\n",
    "\n",
    "\n",
    "hanoi(N,1,2,3)\n",
    "print(len(arr))\n",
    "for _ in arr:\n",
    "    print(*_)\n",
    "    "
   ]
  },
  {
   "cell_type": "code",
   "execution_count": 18,
   "metadata": {},
   "outputs": [
    {
     "data": {
      "text/plain": [
       "32"
      ]
     },
     "execution_count": 18,
     "metadata": {},
     "output_type": "execute_result"
    }
   ],
   "source": []
  },
  {
   "cell_type": "code",
   "execution_count": 12,
   "metadata": {},
   "outputs": [
    {
     "name": "stdout",
     "output_type": "stream",
     "text": [
      "5 4 2\n"
     ]
    }
   ],
   "source": []
  },
  {
   "cell_type": "code",
   "execution_count": null,
   "metadata": {},
   "outputs": [],
   "source": []
  }
 ],
 "metadata": {
  "kernelspec": {
   "display_name": "Python 3",
   "language": "python",
   "name": "python3"
  },
  "language_info": {
   "codemirror_mode": {
    "name": "ipython",
    "version": 3
   },
   "file_extension": ".py",
   "mimetype": "text/x-python",
   "name": "python",
   "nbconvert_exporter": "python",
   "pygments_lexer": "ipython3",
   "version": "3.8.10"
  }
 },
 "nbformat": 4,
 "nbformat_minor": 2
}
