{
 "cells": [
  {
   "cell_type": "code",
   "execution_count": 33,
   "metadata": {},
   "outputs": [
    {
     "name": "stdout",
     "output_type": "stream",
     "text": [
      "keab \n"
     ]
    }
   ],
   "source": [
    "S = input()\n",
    "\n",
    "\n",
    "stk = []\n",
    "res = \"\"\n",
    "isTag=False\n",
    "idx = 0\n",
    "\n",
    "for idx,val in enumerate(S):\n",
    "    if val == \"<\":\n",
    "        isTag=True\n",
    "        if stk:\n",
    "            for _ in range(len(stk)):\n",
    "                res += stk[-1-_]\n",
    "            stk=[]\n",
    "    stk.append(val)\n",
    "    \n",
    "\n",
    "    if val == \">\":\n",
    "        res += \"\".join(stk)\n",
    "        stk = []\n",
    "        isTag=False\n",
    "    \n",
    "    elif val == \" \" or idx == len(S)-1:\n",
    "        if isTag:\n",
    "            pass\n",
    "        else:\n",
    "            stk.pop()\n",
    "            for _ in range(len(stk)):\n",
    "                res += stk[-1-_]\n",
    "            res += \" \"\n",
    "            stk=[]\n",
    "    \n",
    "    \n",
    "\n",
    "print(\"\".join(res))\n"
   ]
  },
  {
   "cell_type": "code",
   "execution_count": 6,
   "metadata": {},
   "outputs": [
    {
     "name": "stdout",
     "output_type": "stream",
     "text": [
      "12\n"
     ]
    }
   ],
   "source": []
  },
  {
   "cell_type": "code",
   "execution_count": null,
   "metadata": {},
   "outputs": [
    {
     "name": "stdout",
     "output_type": "stream",
     "text": [
      "{1: 10, 2: 123, 3: 65}\n"
     ]
    }
   ],
   "source": []
  },
  {
   "cell_type": "code",
   "execution_count": null,
   "metadata": {},
   "outputs": [],
   "source": []
  }
 ],
 "metadata": {
  "kernelspec": {
   "display_name": "Python 3",
   "language": "python",
   "name": "python3"
  },
  "language_info": {
   "codemirror_mode": {
    "name": "ipython",
    "version": 3
   },
   "file_extension": ".py",
   "mimetype": "text/x-python",
   "name": "python",
   "nbconvert_exporter": "python",
   "pygments_lexer": "ipython3",
   "version": "3.8.10"
  }
 },
 "nbformat": 4,
 "nbformat_minor": 2
}
