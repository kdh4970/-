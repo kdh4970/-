{
 "cells": [
  {
   "cell_type": "code",
   "execution_count": 7,
   "metadata": {},
   "outputs": [
    {
     "name": "stdout",
     "output_type": "stream",
     "text": [
      "[0, 0]\n",
      "[[1, 1, 0, 1, 1], [0, 1, 1, 0, 0], [0, 0, 0, 0, 0], [1, 0, 1, 1, 1], [0, 0, 1, 1, 1], [0, 0, 1, 1, 1]]\n",
      "[0, 3]\n",
      "[[-1, -1, 0, 1, 1], [0, -1, -1, 0, 0], [0, 0, 0, 0, 0], [1, 0, 1, 1, 1], [0, 0, 1, 1, 1], [0, 0, 1, 1, 1]]\n",
      "[3, 0]\n",
      "[[-1, -1, 0, -1, -1], [0, -1, -1, 0, 0], [0, 0, 0, 0, 0], [1, 0, 1, 1, 1], [0, 0, 1, 1, 1], [0, 0, 1, 1, 1]]\n",
      "[3, 2]\n",
      "[[-1, -1, 0, -1, -1], [0, -1, -1, 0, 0], [0, 0, 0, 0, 0], [-1, 0, 1, 1, 1], [0, 0, 1, 1, 1], [0, 0, 1, 1, 1]]\n",
      "[-1, -1]\n",
      "[[-1, -1, 0, -1, -1], [0, -1, -1, 0, 0], [0, 0, 0, 0, 0], [-1, 0, -1, -1, -1], [0, 0, -1, -1, -1], [0, 0, -1, -1, -1]]\n",
      "9\n"
     ]
    }
   ],
   "source": [
    "\n",
    "def search_and_update(position,stack,_map):\n",
    "    h,w = len(_map), len(_map[0])\n",
    "    now_x, now_y = position[0], position[1]\n",
    "    if _map[max(now_x-1,0)][now_y] == 1:\n",
    "        stack.append([max(now_x-1,0),now_y])\n",
    "    if _map[now_x][max(now_y-1,0)] == 1:\n",
    "        stack.append([now_x,max(now_y-1,0)])\n",
    "    if _map[min(now_x+1,h-1)][now_y] == 1:\n",
    "        stack.append([min(now_x+1,h-1),now_y])\n",
    "    if _map[now_x][min(now_y+1,w-1)] == 1:\n",
    "        stack.append([now_x,min(now_y+1,w-1)])\n",
    "    return stack\n",
    "\n",
    "def bfs(start_point,end_point,_map):\n",
    "    stk = [start_point]\n",
    "    cnt = 0\n",
    "    while len(stk) != 0:\n",
    "        curr = stk.pop(0)\n",
    "        _map[curr[0]][curr[1]] = -1\n",
    "        cnt+=1\n",
    "        stk = search_and_update(curr,stk,_map)\n",
    "        if end_point in stk:\n",
    "            return cnt\n",
    "\n",
    "def dfs(start_point,end_point,_map):\n",
    "    stk = [start_point]\n",
    "    cnt = 0\n",
    "    while len(stk) != 0:\n",
    "        curr = stk.pop()\n",
    "        _map[curr[0]][curr[1]] = -1\n",
    "        cnt+=1\n",
    "        stk = search_and_update(curr,stk,_map)\n",
    "        if end_point in stk:\n",
    "            return cnt\n",
    "\n",
    "\n",
    "N,M = list(map(int,input().split()))\n",
    "\n",
    "maze = []\n",
    "for _ in range(N):\n",
    "    temp=[int(__) for __ in input()]\n",
    "    maze.append(temp)\n",
    "\n",
    "start = [0,0]\n",
    "end = [N-1,M-1]\n",
    "# print(dfs(start,end,maze.copy()))\n",
    "print(bfs(start,end,maze))\n",
    "\n",
    "\n"
   ]
  },
  {
   "cell_type": "code",
   "execution_count": 6,
   "metadata": {},
   "outputs": [
    {
     "name": "stdout",
     "output_type": "stream",
     "text": [
      "12\n"
     ]
    }
   ],
   "source": []
  },
  {
   "cell_type": "code",
   "execution_count": null,
   "metadata": {},
   "outputs": [
    {
     "name": "stdout",
     "output_type": "stream",
     "text": [
      "{1: 10, 2: 123, 3: 65}\n"
     ]
    }
   ],
   "source": []
  },
  {
   "cell_type": "code",
   "execution_count": null,
   "metadata": {},
   "outputs": [],
   "source": []
  }
 ],
 "metadata": {
  "kernelspec": {
   "display_name": "Python 3",
   "language": "python",
   "name": "python3"
  },
  "language_info": {
   "codemirror_mode": {
    "name": "ipython",
    "version": 3
   },
   "file_extension": ".py",
   "mimetype": "text/x-python",
   "name": "python",
   "nbconvert_exporter": "python",
   "pygments_lexer": "ipython3",
   "version": "3.8.10"
  }
 },
 "nbformat": 4,
 "nbformat_minor": 2
}
