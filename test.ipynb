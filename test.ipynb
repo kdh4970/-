{
 "cells": [
  {
   "cell_type": "code",
   "execution_count": 9,
   "metadata": {},
   "outputs": [
    {
     "name": "stdout",
     "output_type": "stream",
     "text": [
      "None\n"
     ]
    }
   ],
   "source": [
    "# Z\n",
    "# 입력크기 N에 대해서 2^N * 2^N 배열이 있음.\n",
    "# 위 배열을 2^N-1 * 2^N-1 단위로 쪼개서,Z자 순서로 방문\n",
    "# r행 c열을 몇번째로 방문하는가?\n",
    "# 종료 조건 : r행c열에 도달하는 경우.\n",
    "\n",
    "N,R,C = list(map(int,input().split()))\n",
    "\n",
    "count = 0\n",
    "\n",
    "dx=[0,1,0,1]\n",
    "dy=[0,0,1,1]\n",
    "\n",
    "def z(n,start_x,start_y):\n",
    "    cnt = n\n",
    "    for _ in range(4):\n",
    "        cnt += 1\n",
    "        if start_x+dx[_] == C and start_y+dy[_]==R:\n",
    "            return cnt\n",
    "    return cnt\n",
    "\n",
    "def func(n,block_x,block_y):\n",
    "    if block_x==C//2 and block_y==R//2:\n",
    "        n=z(n,2*block_x,2*block_y)\n",
    "        print(n)\n",
    "        return n\n",
    "    else:\n",
    "        for _ in range(4):\n",
    "            n=func(n,2*block_x+dx[_],2*block_y+dy[_])\n",
    "            \n",
    "\n",
    "print(func(0,2^N,2^N))"
   ]
  },
  {
   "cell_type": "code",
   "execution_count": 10,
   "metadata": {},
   "outputs": [
    {
     "data": {
      "text/plain": [
       "(0, 1)"
      ]
     },
     "execution_count": 10,
     "metadata": {},
     "output_type": "execute_result"
    }
   ],
   "source": []
  },
  {
   "cell_type": "code",
   "execution_count": 12,
   "metadata": {},
   "outputs": [
    {
     "name": "stdout",
     "output_type": "stream",
     "text": [
      "5 4 2\n"
     ]
    }
   ],
   "source": []
  },
  {
   "cell_type": "code",
   "execution_count": null,
   "metadata": {},
   "outputs": [],
   "source": []
  }
 ],
 "metadata": {
  "kernelspec": {
   "display_name": "Python 3",
   "language": "python",
   "name": "python3"
  },
  "language_info": {
   "codemirror_mode": {
    "name": "ipython",
    "version": 3
   },
   "file_extension": ".py",
   "mimetype": "text/x-python",
   "name": "python",
   "nbconvert_exporter": "python",
   "pygments_lexer": "ipython3",
   "version": "3.8.10"
  }
 },
 "nbformat": 4,
 "nbformat_minor": 2
}
