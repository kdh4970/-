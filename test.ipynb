{
 "cells": [
  {
   "cell_type": "code",
   "execution_count": 11,
   "metadata": {},
   "outputs": [
    {
     "name": "stdout",
     "output_type": "stream",
     "text": [
      ">esolc<gat>nepo< "
     ]
    }
   ],
   "source": [
    "import re\n",
    "\n",
    "S=input()\n",
    "\n",
    "stk = []\n",
    "\n",
    "start = 0\n",
    "end = 0\n",
    "\n",
    "for t in range(len(S)):\n",
    "    if t==\"<\": \n",
    "        start = t\n",
    "        end = t\n",
    "    elif t==\">\":\n",
    "        end = t\n",
    "        stk.append(S[start:end])\n",
    "        start = t+1\n",
    "    elif t ==\" \":\n",
    "        end = t\n",
    "        temp = S[start:end]\n",
    "        for _ in temp:\n",
    "            temp==\n",
    "\n",
    "\n",
    "\n"
   ]
  },
  {
   "cell_type": "code",
   "execution_count": 6,
   "metadata": {},
   "outputs": [
    {
     "name": "stdout",
     "output_type": "stream",
     "text": [
      "12\n"
     ]
    }
   ],
   "source": []
  },
  {
   "cell_type": "code",
   "execution_count": null,
   "metadata": {},
   "outputs": [],
   "source": []
  }
 ],
 "metadata": {
  "kernelspec": {
   "display_name": "Python 3",
   "language": "python",
   "name": "python3"
  },
  "language_info": {
   "codemirror_mode": {
    "name": "ipython",
    "version": 3
   },
   "file_extension": ".py",
   "mimetype": "text/x-python",
   "name": "python",
   "nbconvert_exporter": "python",
   "pygments_lexer": "ipython3",
   "version": "3.8.10"
  }
 },
 "nbformat": 4,
 "nbformat_minor": 2
}
