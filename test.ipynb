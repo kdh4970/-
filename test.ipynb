{
 "cells": [
  {
   "cell_type": "code",
   "execution_count": 11,
   "metadata": {},
   "outputs": [
    {
     "name": "stdout",
     "output_type": "stream",
     "text": [
      "[20, 10, 15, 9, 4, 8, 6, 5, 3, 2]\n",
      "20\n",
      "[15, 10, 8, 9, 4, 2, 6, 5, 3]\n"
     ]
    }
   ],
   "source": [
    "class MaxHeap:\n",
    "    def __init__(self):\n",
    "        self.heap = []\n",
    "    \n",
    "    def _compare_up(self,child_idx):\n",
    "        parent_idx = (child_idx-1) // 2\n",
    "        if parent_idx <0 or self.heap[parent_idx] >= self.heap[child_idx]:\n",
    "            return False\n",
    "        else:\n",
    "            return True\n",
    "        \n",
    "    def _switch_up(self,child_idx):\n",
    "        parent_idx = (child_idx-1) // 2\n",
    "        self.heap[parent_idx], self.heap[child_idx] = self.heap[child_idx], self.heap[parent_idx]\n",
    "        return parent_idx\n",
    "\n",
    "    def insert(self, val):\n",
    "        self.heap.append(val)\n",
    "        idx = len(self.heap)-1\n",
    "        while self._compare_up(idx):\n",
    "            idx = self._switch_up(idx)\n",
    "    \n",
    "    def _has_left_child(self, parent_idx):\n",
    "        left_child = parent_idx*2+1\n",
    "        if len(self.heap) >= left_child+1: return True\n",
    "        else: return False \n",
    "    \n",
    "    def _has_right_child(self, parent_idx):\n",
    "        right_child = parent_idx*2+2\n",
    "        if len(self.heap) >= right_child+1: return True\n",
    "        else: return False \n",
    "\n",
    "    def _has_child(self, parent_idx):\n",
    "        return self._has_left_child(parent_idx) or self._has_right_child(parent_idx)\n",
    "    \n",
    "    def _switch_down(self,parent_idx,child_idx):\n",
    "        self.heap[parent_idx], self.heap[child_idx] = self.heap[child_idx], self.heap[parent_idx]\n",
    "        return child_idx\n",
    "    \n",
    "\n",
    "    def _compare_down(self):\n",
    "        parent_idx = 0\n",
    "        while self._has_child(parent_idx):\n",
    "            left_child = self.heap[parent_idx*2+1] if self._has_left_child(parent_idx) else None\n",
    "            right_child = self.heap[parent_idx*2+2] if self._has_left_child(parent_idx) else None\n",
    "            if left_child > right_child and left_child > self.heap[parent_idx]:\n",
    "                parent_idx = self._switch_down(parent_idx,parent_idx*2+1)\n",
    "            elif left_child < right_child and right_child > self.heap[parent_idx]:\n",
    "                parent_idx = self._switch_down(parent_idx,parent_idx*2+2)\n",
    "\n",
    "    \n",
    "    def pop(self):\n",
    "        if len(self.heap) > 1:\n",
    "            self.heap[0], self.heap[-1] = self.heap[-1],self.heap[0]\n",
    "            item = self.heap.pop()\n",
    "            self._compare_down()\n",
    "        elif len(self.heap) == 1:\n",
    "            item = self.pop()\n",
    "        else:\n",
    "            item =None\n",
    "\n",
    "        return item\n",
    "        \n"
   ]
  },
  {
   "cell_type": "code",
   "execution_count": 22,
   "metadata": {},
   "outputs": [
    {
     "name": "stdout",
     "output_type": "stream",
     "text": [
      "[0, 1, 2, 3, 0, 0, 3, 3, 0, 3, 0, 2, 1, 1, 0, 1]\n"
     ]
    }
   ],
   "source": []
  },
  {
   "cell_type": "code",
   "execution_count": 6,
   "metadata": {},
   "outputs": [
    {
     "name": "stdout",
     "output_type": "stream",
     "text": [
      "12\n"
     ]
    }
   ],
   "source": []
  },
  {
   "cell_type": "code",
   "execution_count": null,
   "metadata": {},
   "outputs": [],
   "source": []
  }
 ],
 "metadata": {
  "kernelspec": {
   "display_name": "Python 3",
   "language": "python",
   "name": "python3"
  },
  "language_info": {
   "codemirror_mode": {
    "name": "ipython",
    "version": 3
   },
   "file_extension": ".py",
   "mimetype": "text/x-python",
   "name": "python",
   "nbconvert_exporter": "python",
   "pygments_lexer": "ipython3",
   "version": "3.8.10"
  }
 },
 "nbformat": 4,
 "nbformat_minor": 2
}
