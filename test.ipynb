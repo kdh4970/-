{
 "cells": [
  {
   "cell_type": "code",
   "execution_count": 7,
   "metadata": {},
   "outputs": [
    {
     "name": "stdout",
     "output_type": "stream",
     "text": [
      "[0, 0]\n",
      "[[1, 1, 0, 1, 1], [0, 1, 1, 0, 0], [0, 0, 0, 0, 0], [1, 0, 1, 1, 1], [0, 0, 1, 1, 1], [0, 0, 1, 1, 1]]\n",
      "[0, 3]\n",
      "[[-1, -1, 0, 1, 1], [0, -1, -1, 0, 0], [0, 0, 0, 0, 0], [1, 0, 1, 1, 1], [0, 0, 1, 1, 1], [0, 0, 1, 1, 1]]\n",
      "[3, 0]\n",
      "[[-1, -1, 0, -1, -1], [0, -1, -1, 0, 0], [0, 0, 0, 0, 0], [1, 0, 1, 1, 1], [0, 0, 1, 1, 1], [0, 0, 1, 1, 1]]\n",
      "[3, 2]\n",
      "[[-1, -1, 0, -1, -1], [0, -1, -1, 0, 0], [0, 0, 0, 0, 0], [-1, 0, 1, 1, 1], [0, 0, 1, 1, 1], [0, 0, 1, 1, 1]]\n",
      "[-1, -1]\n",
      "[[-1, -1, 0, -1, -1], [0, -1, -1, 0, 0], [0, 0, 0, 0, 0], [-1, 0, -1, -1, -1], [0, 0, -1, -1, -1], [0, 0, -1, -1, -1]]\n",
      "9\n"
     ]
    }
   ],
   "source": [
    "# arr[0] 을 확인하여 -1 저장.\n",
    "# 진행가능방향 탐색 및 저장\n",
    "\n",
    "import sys\n",
    "def input():\n",
    "    return sys.stdin.readline().rstrip()\n",
    "\n",
    "\n",
    "def search_and_update(position,arr,pic):\n",
    "    h,w = len(pic), len(pic[0])\n",
    "    now_x, now_y = position[0],position[1]\n",
    "    if pic[max(now_x-1,0)][now_y] == 1:\n",
    "        arr.append([max(now_x-1,0), now_y])\n",
    "    if pic[now_x][max(now_y-1,0)] == 1:\n",
    "        arr.append([now_x,max(now_y-1,0)])\n",
    "    if pic[min(now_x+1,h-1)][now_y] == 1:\n",
    "        arr.append([min(now_x+1,h-1), now_y])\n",
    "    if pic[now_x][min(now_y+1,w-1)] == 1:\n",
    "        arr.append([now_x,min(now_y+1,w-1)])\n",
    "    return arr\n",
    "\n",
    "\n",
    "def calc_space(start,pic):\n",
    "    stk = [start]\n",
    "    space = 0\n",
    "    while len(stk) != 0:\n",
    "        curr_pos = stk.pop()\n",
    "        if pic[curr_pos[0]][curr_pos[1]] == 1:\n",
    "            pic[curr_pos[0]][curr_pos[1]] = -1\n",
    "            space += 1\n",
    "        stk = search_and_update(curr_pos,stk,pic)\n",
    "    return space, pic\n",
    "\n",
    "\n",
    "\n",
    "HEIGHT, WIDTH = list(map(int,input().split()))\n",
    "image = []\n",
    "\n",
    "for _ in range(HEIGHT):\n",
    "    image.append(list(map(int,input().split())))\n",
    "\n",
    "res = []\n",
    "for y in range(HEIGHT):\n",
    "    for x in range(WIDTH):\n",
    "        startPoint = [y,x]\n",
    "        if image[y][x] != 1: continue \n",
    "        space, image = calc_space(startPoint,image)\n",
    "        res.append(space)\n",
    "\n",
    "\n",
    "print(len(res))\n",
    "print(max(res) if res else 0)\n",
    "\n",
    "\n",
    "\n",
    "\n"
   ]
  },
  {
   "cell_type": "code",
   "execution_count": 6,
   "metadata": {},
   "outputs": [
    {
     "name": "stdout",
     "output_type": "stream",
     "text": [
      "12\n"
     ]
    }
   ],
   "source": []
  },
  {
   "cell_type": "code",
   "execution_count": null,
   "metadata": {},
   "outputs": [
    {
     "name": "stdout",
     "output_type": "stream",
     "text": [
      "{1: 10, 2: 123, 3: 65}\n"
     ]
    }
   ],
   "source": []
  },
  {
   "cell_type": "code",
   "execution_count": null,
   "metadata": {},
   "outputs": [],
   "source": []
  }
 ],
 "metadata": {
  "kernelspec": {
   "display_name": "Python 3",
   "language": "python",
   "name": "python3"
  },
  "language_info": {
   "codemirror_mode": {
    "name": "ipython",
    "version": 3
   },
   "file_extension": ".py",
   "mimetype": "text/x-python",
   "name": "python",
   "nbconvert_exporter": "python",
   "pygments_lexer": "ipython3",
   "version": "3.8.10"
  }
 },
 "nbformat": 4,
 "nbformat_minor": 2
}
