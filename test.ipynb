{
 "cells": [
  {
   "cell_type": "code",
   "execution_count": 2,
   "metadata": {},
   "outputs": [
    {
     "name": "stdout",
     "output_type": "stream",
     "text": [
      "['1', '2', '3', '*', '+', '4', '5', '/', '-']\n"
     ]
    }
   ],
   "source": [
    "import sys\n",
    "\n",
    "# def input():\n",
    "#     return sys.stdin.readline().rstrip()\n",
    "\n",
    "N = int(input())\n",
    "Eq = input()\n",
    "\n",
    "decoder = {}\n",
    "symbol = ord(\"A\")\n",
    "for _ in range(N):\n",
    "    decoder[chr(symbol+_)] = input()\n",
    "\n",
    "decodedEq = []\n",
    "for _ in Eq:\n",
    "    decodedEq.append(decoder[_] if _ in decoder else _)\n",
    "\n",
    "print(decodedEq)"
   ]
  },
  {
   "cell_type": "code",
   "execution_count": 15,
   "metadata": {},
   "outputs": [
    {
     "data": {
      "text/plain": [
       "'123'"
      ]
     },
     "execution_count": 15,
     "metadata": {},
     "output_type": "execute_result"
    }
   ],
   "source": [
    "\"\".join(decodedEq[0:3])\n",
    "\n",
    "# n번째가 calculator이고,\n",
    "# n-1, n-2번쨰가 숫자인 경우\n",
    "# 계산\n",
    "# calculator가 없는경우 종료\n",
    "\n",
    "\n",
    "\n"
   ]
  },
  {
   "cell_type": "code",
   "execution_count": 6,
   "metadata": {},
   "outputs": [
    {
     "ename": "KeyboardInterrupt",
     "evalue": "",
     "output_type": "error",
     "traceback": [
      "\u001b[0;31m---------------------------------------------------------------------------\u001b[0m",
      "\u001b[0;31mKeyboardInterrupt\u001b[0m                         Traceback (most recent call last)",
      "\u001b[1;32m/home/do/CodingTest-Baekjoon/test.ipynb 셀 3\u001b[0m line \u001b[0;36m2\n\u001b[1;32m     <a href='vscode-notebook-cell:/home/do/CodingTest-Baekjoon/test.ipynb#W2sZmlsZQ%3D%3D?line=19'>20</a>\u001b[0m                 \u001b[39mpass\u001b[39;00m\n\u001b[1;32m     <a href='vscode-notebook-cell:/home/do/CodingTest-Baekjoon/test.ipynb#W2sZmlsZQ%3D%3D?line=20'>21</a>\u001b[0m \u001b[39mwhile\u001b[39;00m chkOperator(decodedEq,operator):\n\u001b[0;32m---> <a href='vscode-notebook-cell:/home/do/CodingTest-Baekjoon/test.ipynb#W2sZmlsZQ%3D%3D?line=21'>22</a>\u001b[0m     doOnce(decodedEq)\n\u001b[1;32m     <a href='vscode-notebook-cell:/home/do/CodingTest-Baekjoon/test.ipynb#W2sZmlsZQ%3D%3D?line=22'>23</a>\u001b[0m \u001b[39mprint\u001b[39m(decodedEq)\n",
      "\u001b[1;32m/home/do/CodingTest-Baekjoon/test.ipynb 셀 3\u001b[0m line \u001b[0;36m1\n\u001b[1;32m     <a href='vscode-notebook-cell:/home/do/CodingTest-Baekjoon/test.ipynb#W2sZmlsZQ%3D%3D?line=10'>11</a>\u001b[0m \u001b[39mtry\u001b[39;00m:\n\u001b[1;32m     <a href='vscode-notebook-cell:/home/do/CodingTest-Baekjoon/test.ipynb#W2sZmlsZQ%3D%3D?line=11'>12</a>\u001b[0m     a\u001b[39m=\u001b[39m\u001b[39mint\u001b[39m(text[idx\u001b[39m-\u001b[39m\u001b[39m2\u001b[39m])\n\u001b[0;32m---> <a href='vscode-notebook-cell:/home/do/CodingTest-Baekjoon/test.ipynb#W2sZmlsZQ%3D%3D?line=12'>13</a>\u001b[0m     b\u001b[39m=\u001b[39m\u001b[39mint\u001b[39;49m(text[idx\u001b[39m-\u001b[39;49m\u001b[39m1\u001b[39;49m])\n\u001b[1;32m     <a href='vscode-notebook-cell:/home/do/CodingTest-Baekjoon/test.ipynb#W2sZmlsZQ%3D%3D?line=13'>14</a>\u001b[0m     \u001b[39mif\u001b[39;00m val \u001b[39m==\u001b[39m \u001b[39m\"\u001b[39m\u001b[39m/\u001b[39m\u001b[39m\"\u001b[39m: text[idx\u001b[39m-\u001b[39m\u001b[39m2\u001b[39m:\u001b[39m3\u001b[39m] \u001b[39m=\u001b[39m [a\u001b[39m/\u001b[39mb]\n\u001b[1;32m     <a href='vscode-notebook-cell:/home/do/CodingTest-Baekjoon/test.ipynb#W2sZmlsZQ%3D%3D?line=14'>15</a>\u001b[0m     \u001b[39melif\u001b[39;00m val \u001b[39m==\u001b[39m \u001b[39m\"\u001b[39m\u001b[39m*\u001b[39m\u001b[39m\"\u001b[39m: text[idx\u001b[39m-\u001b[39m\u001b[39m2\u001b[39m:\u001b[39m3\u001b[39m] \u001b[39m=\u001b[39m [a\u001b[39m*\u001b[39mb]\n",
      "\u001b[0;31mKeyboardInterrupt\u001b[0m: "
     ]
    }
   ],
   "source": [
    "operator = [\"/\",\"*\",\"+\",\"-\"]\n",
    "\n",
    "def chkOperator(text:str, calculator : list) -> bool:\n",
    "    for _ in text:\n",
    "        if _ in calculator: return True\n",
    "    return False\n",
    "\n",
    "def doOnce(text:str)->None:\n",
    "    for idx,val in enumerate(text):\n",
    "        if val in operator:\n",
    "            try:\n",
    "                a=int(text[idx-2])\n",
    "                b=int(text[idx-1])\n",
    "                if val == \"/\": text[idx-2:3] = [a/b]\n",
    "                elif val == \"*\": text[idx-2:3] = [a*b]\n",
    "                elif val == \"+\": text[idx-2:3] = [a+b]\n",
    "                elif val == \"-\": text[idx-2:3] = [a-b]\n",
    "                continue\n",
    "            except ValueError or IndexError:\n",
    "                pass\n",
    "while chkOperator(decodedEq,operator):\n",
    "    doOnce(decodedEq)\n",
    "print(decodedEq)"
   ]
  },
  {
   "cell_type": "code",
   "execution_count": 25,
   "metadata": {},
   "outputs": [
    {
     "data": {
      "text/plain": [
       "['1', '/', '-']"
      ]
     },
     "execution_count": 25,
     "metadata": {},
     "output_type": "execute_result"
    }
   ],
   "source": [
    "decodedEq"
   ]
  },
  {
   "cell_type": "code",
   "execution_count": null,
   "metadata": {},
   "outputs": [],
   "source": []
  },
  {
   "cell_type": "code",
   "execution_count": null,
   "metadata": {},
   "outputs": [],
   "source": []
  }
 ],
 "metadata": {
  "kernelspec": {
   "display_name": "Python 3",
   "language": "python",
   "name": "python3"
  },
  "language_info": {
   "codemirror_mode": {
    "name": "ipython",
    "version": 3
   },
   "file_extension": ".py",
   "mimetype": "text/x-python",
   "name": "python",
   "nbconvert_exporter": "python",
   "pygments_lexer": "ipython3",
   "version": "3.8.10"
  }
 },
 "nbformat": 4,
 "nbformat_minor": 2
}
