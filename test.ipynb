{
 "cells": [
  {
   "cell_type": "code",
   "execution_count": 3,
   "metadata": {},
   "outputs": [
    {
     "name": "stdout",
     "output_type": "stream",
     "text": [
      "7\n",
      "1 3\n",
      "1 2\n",
      "3 2\n",
      "1 3\n",
      "2 1\n",
      "2 3\n",
      "1 3\n"
     ]
    }
   ],
   "source": [
    "# 하노이탑\n",
    "N = int(input())\n",
    "\n",
    "# 한번에 하나의 원판만 이동\n",
    "# 원판은 항상 아래가 작아야함.\n",
    "# 이동을 위해 중간에 거쳐갈 곳이 필요함. 시점 - 경유지 - 종점\n",
    "# N개의 원반을 옮기기 위해 N-1개의 원반을 경유지에 옮겨야 함.\n",
    "# 가장 큰원반이 최종 목적기둥으로 이동\n",
    "# N-1개의 원반을 최종목적기둥으로 옮겨야 함.\n",
    "# 종료조건 : N이 1일때, 마지막 하노이를 움직임으로써 끝.\n",
    "stk = []\n",
    "\n",
    "def move_disk(start,end):\n",
    "    stk.append((start,end))\n",
    "\n",
    "def func(n,start,end):\n",
    "    hanoi(n,start,end,2)\n",
    "\n",
    "def hanoi(n,start,end,mid):\n",
    "    if n==1:\n",
    "        move_disk(start,end)\n",
    "    else:\n",
    "        hanoi(n-1,start,mid,end)\n",
    "        move_disk(start,end)\n",
    "        hanoi(n-1,mid,end,start)\n",
    "\n",
    "func(N,1,3)\n",
    "print(len(stk))\n",
    "for _ in stk:\n",
    "    print(*_)\n"
   ]
  },
  {
   "cell_type": "code",
   "execution_count": 10,
   "metadata": {},
   "outputs": [
    {
     "data": {
      "text/plain": [
       "(0, 1)"
      ]
     },
     "execution_count": 10,
     "metadata": {},
     "output_type": "execute_result"
    }
   ],
   "source": []
  },
  {
   "cell_type": "code",
   "execution_count": 12,
   "metadata": {},
   "outputs": [
    {
     "name": "stdout",
     "output_type": "stream",
     "text": [
      "5 4 2\n"
     ]
    }
   ],
   "source": []
  },
  {
   "cell_type": "code",
   "execution_count": null,
   "metadata": {},
   "outputs": [],
   "source": []
  }
 ],
 "metadata": {
  "kernelspec": {
   "display_name": "Python 3",
   "language": "python",
   "name": "python3"
  },
  "language_info": {
   "codemirror_mode": {
    "name": "ipython",
    "version": 3
   },
   "file_extension": ".py",
   "mimetype": "text/x-python",
   "name": "python",
   "nbconvert_exporter": "python",
   "pygments_lexer": "ipython3",
   "version": "3.8.10"
  }
 },
 "nbformat": 4,
 "nbformat_minor": 2
}
