{
 "cells": [
  {
   "cell_type": "code",
   "execution_count": 89,
   "metadata": {},
   "outputs": [
    {
     "name": "stdout",
     "output_type": "stream",
     "text": [
      "1\n"
     ]
    }
   ],
   "source": [
    "# 수열의 n개의 원소에 대해 부분수열\n",
    "# 각 원소에 대해 부분수열로 포함할지 말지\n",
    "\n",
    "N,S = list(map(int,input().split()))\n",
    "\n",
    "nums = list(map(int,input().split()))\n",
    "\n",
    "cnt = 0\n",
    "def func(curr_idx,total):\n",
    "    global cnt\n",
    "    if curr_idx == N:\n",
    "        if total==S:\n",
    "            cnt+=1\n",
    "        return\n",
    "    func(curr_idx+1,total)\n",
    "    func(curr_idx+1,total+nums[curr_idx])\n",
    "\n",
    "\n",
    "func(0,0)\n",
    "print(cnt-1 if S==0 else cnt) # 공집합 예외"
   ]
  },
  {
   "cell_type": "code",
   "execution_count": 77,
   "metadata": {},
   "outputs": [
    {
     "name": "stdout",
     "output_type": "stream",
     "text": [
      "[5]\n"
     ]
    }
   ],
   "source": [
    "a=[1,2,3,4,5]\n",
    "print(a[4:5])"
   ]
  },
  {
   "cell_type": "code",
   "execution_count": 12,
   "metadata": {},
   "outputs": [
    {
     "name": "stdout",
     "output_type": "stream",
     "text": [
      "5 4 2\n"
     ]
    }
   ],
   "source": []
  },
  {
   "cell_type": "code",
   "execution_count": null,
   "metadata": {},
   "outputs": [],
   "source": []
  }
 ],
 "metadata": {
  "kernelspec": {
   "display_name": "Python 3",
   "language": "python",
   "name": "python3"
  },
  "language_info": {
   "codemirror_mode": {
    "name": "ipython",
    "version": 3
   },
   "file_extension": ".py",
   "mimetype": "text/x-python",
   "name": "python",
   "nbconvert_exporter": "python",
   "pygments_lexer": "ipython3",
   "version": "3.8.10"
  }
 },
 "nbformat": 4,
 "nbformat_minor": 2
}
