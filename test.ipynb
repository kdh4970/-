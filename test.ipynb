{
 "cells": [
  {
   "cell_type": "code",
   "execution_count": 11,
   "metadata": {},
   "outputs": [
    {
     "ename": "KeyboardInterrupt",
     "evalue": "",
     "output_type": "error",
     "traceback": [
      "\u001b[0;31m---------------------------------------------------------------------------\u001b[0m",
      "\u001b[0;31mKeyboardInterrupt\u001b[0m                         Traceback (most recent call last)",
      "Cell \u001b[0;32mIn[11], line 8\u001b[0m\n\u001b[1;32m      6\u001b[0m total \u001b[38;5;241m=\u001b[39m \u001b[38;5;241m0\u001b[39m\n\u001b[1;32m      7\u001b[0m \u001b[38;5;28;01mwhile\u001b[39;00m \u001b[38;5;28;01mTrue\u001b[39;00m:\n\u001b[0;32m----> 8\u001b[0m     tree \u001b[38;5;241m=\u001b[39m \u001b[38;5;28;43minput\u001b[39;49m\u001b[43m(\u001b[49m\u001b[43m)\u001b[49m\n\u001b[1;32m      9\u001b[0m     \u001b[38;5;28;01mif\u001b[39;00m tree \u001b[38;5;241m==\u001b[39m \u001b[38;5;124m\"\u001b[39m\u001b[38;5;124m\"\u001b[39m:\n\u001b[1;32m     10\u001b[0m         \u001b[38;5;28;01mbreak\u001b[39;00m\n",
      "Cell \u001b[0;32mIn[11], line 2\u001b[0m, in \u001b[0;36minput\u001b[0;34m()\u001b[0m\n\u001b[0;32m----> 2\u001b[0m \u001b[38;5;28;01mdef\u001b[39;00m \u001b[38;5;21minput\u001b[39m():\u001b[38;5;28;01mreturn\u001b[39;00m \u001b[43msys\u001b[49m\u001b[38;5;241;43m.\u001b[39;49m\u001b[43mstdin\u001b[49m\u001b[38;5;241;43m.\u001b[39;49m\u001b[43mreadline\u001b[49m\u001b[43m(\u001b[49m\u001b[43m)\u001b[49m\u001b[38;5;241m.\u001b[39mrstrip()\n",
      "\u001b[0;31mKeyboardInterrupt\u001b[0m: "
     ]
    }
   ],
   "source": [
    "import sys\n",
    "from heapq import heappush,heappop\n",
    "def input():return sys.stdin.readline().rstrip()\n",
    "\n",
    "T = int(input())\n",
    "\n",
    "for _ in range(T):\n",
    "    k=int(input())\n",
    "    deleted = [False] * k  # 원소의 삭제여부 저징\n",
    "    maxheap = [] # 최댓값을 위합 맥스 힙\n",
    "    minheap = [] # 최솟값을 위한 민 힙\n",
    "    for __ in range(k):\n",
    "        cmd = input()\n",
    "        action, val = cmd.split()\n",
    "        if action == \"I\":\n",
    "            heappush(maxheap,(-int(val),__)) \n",
    "            heappush(minheap,(int(val),__)) \n",
    "        elif action == \"D\":\n",
    "            if val == \"1\" and maxheap:\n",
    "                # !! 여기는 각 힙에서 삭제된 원소가 있는지 유효성 검사 및 처리 !!\n",
    "                while minheap and deleted[minheap[0][1]]:\n",
    "                    heappop(minheap)\n",
    "                deleted[heappop(maxheap)[1]] = True\n",
    "            elif val == \"-1\" and minheap:\n",
    "                while maxheap and deleted[maxheap[0][1]]:\n",
    "                    heappop(maxheap)\n",
    "                deleted[heappop(minheap)[1]] = True\n",
    "            else:\n",
    "                pass\n",
    "        else:\n",
    "            pass\n",
    "    # !! 여기는 삭제 작업 수행 후 결과로 사용하기 위해 다시한번 유효성 검사 및 처리 !!\n",
    "    while minheap and deleted[minheap[0][1]]:\n",
    "        heappop(minheap)\n",
    "    while maxheap and deleted[maxheap[0][1]]:\n",
    "        heappop(maxheap)\n",
    "    if not maxheap or not minheap:\n",
    "        print(\"EMPTY\")\n",
    "    else:\n",
    "        print(-maxheap[0][0],minheap[0][0])\n",
    "\n"
   ]
  },
  {
   "cell_type": "code",
   "execution_count": 3,
   "metadata": {},
   "outputs": [
    {
     "name": "stdout",
     "output_type": "stream",
     "text": [
      "{1: 10, 2: 123, 3: 65}\n"
     ]
    }
   ],
   "source": [
    "d = dict()\n",
    "new_d = dict()\n",
    "for key,val in d.items():\n",
    "    new_d[val]=key\n",
    "print(new_d)"
   ]
  },
  {
   "cell_type": "code",
   "execution_count": 6,
   "metadata": {},
   "outputs": [
    {
     "name": "stdout",
     "output_type": "stream",
     "text": [
      "12\n"
     ]
    }
   ],
   "source": []
  },
  {
   "cell_type": "code",
   "execution_count": null,
   "metadata": {},
   "outputs": [],
   "source": []
  }
 ],
 "metadata": {
  "kernelspec": {
   "display_name": "Python 3",
   "language": "python",
   "name": "python3"
  },
  "language_info": {
   "codemirror_mode": {
    "name": "ipython",
    "version": 3
   },
   "file_extension": ".py",
   "mimetype": "text/x-python",
   "name": "python",
   "nbconvert_exporter": "python",
   "pygments_lexer": "ipython3",
   "version": "3.8.10"
  }
 },
 "nbformat": 4,
 "nbformat_minor": 2
}
