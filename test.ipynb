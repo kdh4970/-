{
 "cells": [
  {
   "cell_type": "code",
   "execution_count": 30,
   "metadata": {},
   "outputs": [
    {
     "ename": "KeyboardInterrupt",
     "evalue": "",
     "output_type": "error",
     "traceback": [
      "\u001b[0;31m---------------------------------------------------------------------------\u001b[0m",
      "\u001b[0;31mKeyboardInterrupt\u001b[0m                         Traceback (most recent call last)",
      "Cell \u001b[0;32mIn[30], line 20\u001b[0m\n\u001b[1;32m     16\u001b[0m                 func((x,y),n\u001b[38;5;241m-\u001b[39m\u001b[38;5;241m1\u001b[39m)\n\u001b[1;32m     17\u001b[0m                 stk\u001b[38;5;241m.\u001b[39mpop()\n\u001b[0;32m---> 20\u001b[0m \u001b[38;5;28mprint\u001b[39m(\u001b[43mfunc\u001b[49m\u001b[43m(\u001b[49m\u001b[43m(\u001b[49m\u001b[38;5;241;43m0\u001b[39;49m\u001b[43m,\u001b[49m\u001b[38;5;241;43m0\u001b[39;49m\u001b[43m)\u001b[49m\u001b[43m,\u001b[49m\u001b[43mN\u001b[49m\u001b[43m)\u001b[49m)\n",
      "Cell \u001b[0;32mIn[30], line 16\u001b[0m, in \u001b[0;36mfunc\u001b[0;34m(pos, n)\u001b[0m\n\u001b[1;32m     14\u001b[0m \u001b[38;5;28;01mif\u001b[39;00m x \u001b[38;5;241m!=\u001b[39m pos[\u001b[38;5;241m0\u001b[39m] \u001b[38;5;129;01mand\u001b[39;00m y \u001b[38;5;241m!=\u001b[39m pos[\u001b[38;5;241m1\u001b[39m] \u001b[38;5;129;01mand\u001b[39;00m \u001b[38;5;28mabs\u001b[39m(pos[\u001b[38;5;241m0\u001b[39m]\u001b[38;5;241m-\u001b[39mx) \u001b[38;5;241m!=\u001b[39m \u001b[38;5;28mabs\u001b[39m(pos[\u001b[38;5;241m1\u001b[39m]\u001b[38;5;241m-\u001b[39my):\n\u001b[1;32m     15\u001b[0m     stk\u001b[38;5;241m.\u001b[39mappend((x,y))\n\u001b[0;32m---> 16\u001b[0m     \u001b[43mfunc\u001b[49m\u001b[43m(\u001b[49m\u001b[43m(\u001b[49m\u001b[43mx\u001b[49m\u001b[43m,\u001b[49m\u001b[43my\u001b[49m\u001b[43m)\u001b[49m\u001b[43m,\u001b[49m\u001b[43mn\u001b[49m\u001b[38;5;241;43m-\u001b[39;49m\u001b[38;5;241;43m1\u001b[39;49m\u001b[43m)\u001b[49m\n\u001b[1;32m     17\u001b[0m     stk\u001b[38;5;241m.\u001b[39mpop()\n",
      "Cell \u001b[0;32mIn[30], line 16\u001b[0m, in \u001b[0;36mfunc\u001b[0;34m(pos, n)\u001b[0m\n\u001b[1;32m     14\u001b[0m \u001b[38;5;28;01mif\u001b[39;00m x \u001b[38;5;241m!=\u001b[39m pos[\u001b[38;5;241m0\u001b[39m] \u001b[38;5;129;01mand\u001b[39;00m y \u001b[38;5;241m!=\u001b[39m pos[\u001b[38;5;241m1\u001b[39m] \u001b[38;5;129;01mand\u001b[39;00m \u001b[38;5;28mabs\u001b[39m(pos[\u001b[38;5;241m0\u001b[39m]\u001b[38;5;241m-\u001b[39mx) \u001b[38;5;241m!=\u001b[39m \u001b[38;5;28mabs\u001b[39m(pos[\u001b[38;5;241m1\u001b[39m]\u001b[38;5;241m-\u001b[39my):\n\u001b[1;32m     15\u001b[0m     stk\u001b[38;5;241m.\u001b[39mappend((x,y))\n\u001b[0;32m---> 16\u001b[0m     \u001b[43mfunc\u001b[49m\u001b[43m(\u001b[49m\u001b[43m(\u001b[49m\u001b[43mx\u001b[49m\u001b[43m,\u001b[49m\u001b[43my\u001b[49m\u001b[43m)\u001b[49m\u001b[43m,\u001b[49m\u001b[43mn\u001b[49m\u001b[38;5;241;43m-\u001b[39;49m\u001b[38;5;241;43m1\u001b[39;49m\u001b[43m)\u001b[49m\n\u001b[1;32m     17\u001b[0m     stk\u001b[38;5;241m.\u001b[39mpop()\n",
      "    \u001b[0;31m[... skipping similar frames: func at line 16 (12 times)]\u001b[0m\n",
      "Cell \u001b[0;32mIn[30], line 16\u001b[0m, in \u001b[0;36mfunc\u001b[0;34m(pos, n)\u001b[0m\n\u001b[1;32m     14\u001b[0m \u001b[38;5;28;01mif\u001b[39;00m x \u001b[38;5;241m!=\u001b[39m pos[\u001b[38;5;241m0\u001b[39m] \u001b[38;5;129;01mand\u001b[39;00m y \u001b[38;5;241m!=\u001b[39m pos[\u001b[38;5;241m1\u001b[39m] \u001b[38;5;129;01mand\u001b[39;00m \u001b[38;5;28mabs\u001b[39m(pos[\u001b[38;5;241m0\u001b[39m]\u001b[38;5;241m-\u001b[39mx) \u001b[38;5;241m!=\u001b[39m \u001b[38;5;28mabs\u001b[39m(pos[\u001b[38;5;241m1\u001b[39m]\u001b[38;5;241m-\u001b[39my):\n\u001b[1;32m     15\u001b[0m     stk\u001b[38;5;241m.\u001b[39mappend((x,y))\n\u001b[0;32m---> 16\u001b[0m     func((x,y),n\u001b[38;5;241m-\u001b[39m\u001b[38;5;241m1\u001b[39m)\n\u001b[1;32m     17\u001b[0m     stk\u001b[38;5;241m.\u001b[39mpop()\n",
      "\u001b[0;31mKeyboardInterrupt\u001b[0m: "
     ]
    }
   ],
   "source": [
    "N = int(input())\n",
    "cnt = 0\n",
    "\n",
    "stk = []\n",
    "\n",
    "def func(floor):\n",
    "    if floor == N:\n",
    "        cnt += 1\n",
    "        return\n",
    "    for _ in range(N):\n",
    "        stk.append(_)\n",
    "        func(floor+1)\n"
   ]
  },
  {
   "cell_type": "code",
   "execution_count": 10,
   "metadata": {},
   "outputs": [
    {
     "data": {
      "text/plain": [
       "(0, 1)"
      ]
     },
     "execution_count": 10,
     "metadata": {},
     "output_type": "execute_result"
    }
   ],
   "source": []
  },
  {
   "cell_type": "code",
   "execution_count": 12,
   "metadata": {},
   "outputs": [
    {
     "name": "stdout",
     "output_type": "stream",
     "text": [
      "5 4 2\n"
     ]
    }
   ],
   "source": []
  },
  {
   "cell_type": "code",
   "execution_count": null,
   "metadata": {},
   "outputs": [],
   "source": []
  }
 ],
 "metadata": {
  "kernelspec": {
   "display_name": "Python 3",
   "language": "python",
   "name": "python3"
  },
  "language_info": {
   "codemirror_mode": {
    "name": "ipython",
    "version": 3
   },
   "file_extension": ".py",
   "mimetype": "text/x-python",
   "name": "python",
   "nbconvert_exporter": "python",
   "pygments_lexer": "ipython3",
   "version": "3.8.10"
  }
 },
 "nbformat": 4,
 "nbformat_minor": 2
}
