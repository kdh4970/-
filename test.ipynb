{
 "cells": [
  {
   "cell_type": "code",
   "execution_count": 4,
   "metadata": {},
   "outputs": [
    {
     "name": "stdout",
     "output_type": "stream",
     "text": [
      "start DFS\n",
      "[[1, 0]]\n",
      "[[1, 1]]\n",
      "[[2, 1]]\n",
      "[[3, 1], [2, 2]]\n",
      "[[3, 1], [2, 3]]\n",
      "[[3, 1], [3, 3]]\n",
      "[[3, 1], [3, 4]]\n",
      "[[3, 1]]\n",
      "[[3, 0]]\n",
      "[[4, 0]]\n",
      "[[5, 0]]\n",
      "[[5, 1]]\n",
      "[[5, 2]]\n",
      "[[5, 3]]\n",
      "[[5, 4]]\n",
      "[[-1, 1, 1, 1, 1], [-1, -1, 1, 1, 1], [1, -1, -1, -1, 1], [-1, -1, 1, -1, -1], [-1, 1, 1, 1, 1], [-1, -1, -1, -1, 0]]\n"
     ]
    }
   ],
   "source": [
    "import sys\n",
    "from collections import deque\n",
    "def input():return sys.stdin.readline().rstrip()\n",
    "\n",
    "n,m = list(map(int, input().split()))\n",
    "\n",
    "def search_and_update(draw,curr,arr):\n",
    "    now_r, now_c = curr\n",
    "    if now_r > 0 and draw[now_r-1][now_c] == 1:\n",
    "        arr.append((now_r-1, now_c))\n",
    "    if now_r < n-1 and draw[now_r+1][now_c] == 1:\n",
    "        arr.append((now_r+1, now_c))\n",
    "    if now_c > 0 and draw[now_r][now_c-1] == 1:\n",
    "        arr.append((now_r, now_c-1))\n",
    "    if now_c < m-1 and draw[now_r][now_c+1] == 1:\n",
    "        arr.append((now_r, now_c+1))\n",
    "    return arr\n",
    "\n",
    "def dfs(draw,start):\n",
    "    stk = [start]\n",
    "    area = 0\n",
    "    while stk:\n",
    "        curr = stk.pop(-1)\n",
    "        if draw[curr[0]][curr[1]] ==1:\n",
    "            draw[curr[0]][curr[1]] = -1\n",
    "            area += 1\n",
    "        stk = search_and_update(draw,curr,stk)\n",
    "    return draw, area\n",
    "\n",
    "draw = [list(map(int,input().split())) for _ in range(n)]\n",
    "\n",
    "res = []\n",
    "for row in range(n):\n",
    "    for col in range(m):\n",
    "        if draw[row][col] == 1 :\n",
    "            draw, area = dfs(draw,(row,col))\n",
    "            res.append(area)\n",
    "\n",
    "print(len(res))\n",
    "print(max(res) if res else 0)\n",
    "\n",
    "\n",
    "    \n",
    "\n"
   ]
  },
  {
   "cell_type": "code",
   "execution_count": 6,
   "metadata": {},
   "outputs": [
    {
     "name": "stdout",
     "output_type": "stream",
     "text": [
      "12\n"
     ]
    }
   ],
   "source": []
  },
  {
   "cell_type": "code",
   "execution_count": null,
   "metadata": {},
   "outputs": [
    {
     "name": "stdout",
     "output_type": "stream",
     "text": [
      "{1: 10, 2: 123, 3: 65}\n"
     ]
    }
   ],
   "source": []
  },
  {
   "cell_type": "code",
   "execution_count": null,
   "metadata": {},
   "outputs": [],
   "source": []
  }
 ],
 "metadata": {
  "kernelspec": {
   "display_name": "Python 3",
   "language": "python",
   "name": "python3"
  },
  "language_info": {
   "codemirror_mode": {
    "name": "ipython",
    "version": 3
   },
   "file_extension": ".py",
   "mimetype": "text/x-python",
   "name": "python",
   "nbconvert_exporter": "python",
   "pygments_lexer": "ipython3",
   "version": "3.8.10"
  }
 },
 "nbformat": 4,
 "nbformat_minor": 2
}
