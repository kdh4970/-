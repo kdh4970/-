{
 "cells": [
  {
   "cell_type": "code",
   "execution_count": 36,
   "metadata": {},
   "outputs": [],
   "source": [
    "\n",
    "N = int(input())\n",
    "numbers = list(map(int,input().split()))\n",
    "operators = list(map(int,input().split()))\n",
    "\n",
    "oper_list = []\n",
    "temp = []\n",
    "\n",
    "def makeOperList(n):\n",
    "    if n == N-1:\n",
    "        oper_list.append(temp.copy())\n",
    "        return\n",
    "    \n",
    "    for op in range(len(operators)):\n",
    "        if operators[op]:\n",
    "            temp.append(op)\n",
    "            operators[op] -= 1\n",
    "            makeOperList(n+1)\n",
    "            operators[op] += 1\n",
    "            temp.pop()\n",
    "\n",
    "\n",
    "\n",
    "makeOperList(0)\n"
   ]
  },
  {
   "cell_type": "code",
   "execution_count": 37,
   "metadata": {},
   "outputs": [
    {
     "name": "stdout",
     "output_type": "stream",
     "text": [
      "[[1, 2, 2, 2, 2], [2, 1, 2, 2, 2], [2, 2, 1, 2, 2], [2, 2, 2, 1, 2], [2, 2, 2, 2, 1]]\n",
      "-1000000000 10999900\n"
     ]
    }
   ],
   "source": [
    "print(oper_list)\n",
    "res_max = 0\n",
    "res_min = 0\n",
    "\n",
    "for case, test in enumerate(oper_list):\n",
    "    x = numbers[0]\n",
    "    for idx in range(N-1):\n",
    "        if test[idx] == 0:\n",
    "            x += numbers[idx+1]\n",
    "        elif test[idx] == 1:\n",
    "            x -= numbers[idx+1]\n",
    "        elif test[idx] == 2:\n",
    "            x *= numbers[idx+1]\n",
    "    if case == 0:\n",
    "        res_min = x\n",
    "        res_max = x\n",
    "    if res_max < x : res_max = x\n",
    "    if res_min > x : res_min = x\n",
    "\n",
    "print(res_min,res_max)"
   ]
  },
  {
   "cell_type": "code",
   "execution_count": 12,
   "metadata": {},
   "outputs": [
    {
     "name": "stdout",
     "output_type": "stream",
     "text": [
      "5 4 2\n"
     ]
    }
   ],
   "source": []
  },
  {
   "cell_type": "code",
   "execution_count": null,
   "metadata": {},
   "outputs": [],
   "source": []
  }
 ],
 "metadata": {
  "kernelspec": {
   "display_name": "Python 3",
   "language": "python",
   "name": "python3"
  },
  "language_info": {
   "codemirror_mode": {
    "name": "ipython",
    "version": 3
   },
   "file_extension": ".py",
   "mimetype": "text/x-python",
   "name": "python",
   "nbconvert_exporter": "python",
   "pygments_lexer": "ipython3",
   "version": "3.8.10"
  }
 },
 "nbformat": 4,
 "nbformat_minor": 2
}
