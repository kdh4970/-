{
 "cells": [
  {
   "cell_type": "code",
   "execution_count": 39,
   "metadata": {},
   "outputs": [
    {
     "name": "stdout",
     "output_type": "stream",
     "text": [
      "63\n"
     ]
    }
   ],
   "source": [
    "# 2^N * 2^N 사이즈 배열을 Z로 순회하며, r행 c열이 몇번째로 탐색되는지 찾는 문제\n",
    "# 종료 조건 : 현재 탐색 지점이 r행 c열인 경우\n",
    "# N=1 : 2 x 2 배열을 Z 순회 \n",
    "# N=2 : 4 x 4 배열을 2 x 2 배열 블럭 4개로 쪼개고, 각 블럭을 Z순회, 블럭 내에서도 Z 순회\n",
    "# N=k : 2^k x 2^k 배열을 2^(k-1) x 2^(k-1) 배열 블럭 4개로 쪼개고, 각 블럭을 Z 순회\n",
    "\n",
    "\n",
    "N,R,C = list(map(int,input().split()))\n",
    "\n",
    "lst = [[]*4 for _ in range(4)]\n",
    "\n",
    "\n",
    "def func(n,r,c):\n",
    "    if n==0:\n",
    "        return 0\n",
    "    else:\n",
    "        half_block = 1<<(n-1)\n",
    "        if r<half_block and c<half_block:\n",
    "            return func(n-1,r,c)\n",
    "        elif r<half_block and c>=half_block:\n",
    "            return half_block**2 + func(n-1,r,c-half_block)\n",
    "        elif r>=half_block and c<half_block:\n",
    "            return 2*(half_block**2) + func(n-1,r-half_block,c)\n",
    "        elif r>=half_block and c>=half_block:\n",
    "            return 3*(half_block**2) + func(n-1,r-half_block,c-half_block)\n",
    "\n",
    "\n",
    "print(func(N,R,C))\n",
    "# print(lst)\n",
    "# for i in range(4):\n",
    "#     for j in range(4):\n",
    "#         lst[i].append(func(2,i,j))\n",
    "\n",
    "\n",
    "# for _ in range(4):\n",
    "#     print(*lst[_])\n"
   ]
  },
  {
   "cell_type": "code",
   "execution_count": 18,
   "metadata": {},
   "outputs": [
    {
     "data": {
      "text/plain": [
       "32"
      ]
     },
     "execution_count": 18,
     "metadata": {},
     "output_type": "execute_result"
    }
   ],
   "source": []
  },
  {
   "cell_type": "code",
   "execution_count": 12,
   "metadata": {},
   "outputs": [
    {
     "name": "stdout",
     "output_type": "stream",
     "text": [
      "5 4 2\n"
     ]
    }
   ],
   "source": []
  },
  {
   "cell_type": "code",
   "execution_count": null,
   "metadata": {},
   "outputs": [],
   "source": []
  }
 ],
 "metadata": {
  "kernelspec": {
   "display_name": "Python 3",
   "language": "python",
   "name": "python3"
  },
  "language_info": {
   "codemirror_mode": {
    "name": "ipython",
    "version": 3
   },
   "file_extension": ".py",
   "mimetype": "text/x-python",
   "name": "python",
   "nbconvert_exporter": "python",
   "pygments_lexer": "ipython3",
   "version": "3.8.10"
  }
 },
 "nbformat": 4,
 "nbformat_minor": 2
}
