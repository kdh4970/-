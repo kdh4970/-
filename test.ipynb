{
 "cells": [
  {
   "cell_type": "code",
   "execution_count": 5,
   "metadata": {},
   "outputs": [
    {
     "ename": "ValueError",
     "evalue": "not enough values to unpack (expected 3, got 0)",
     "output_type": "error",
     "traceback": [
      "\u001b[0;31m---------------------------------------------------------------------------\u001b[0m",
      "\u001b[0;31mValueError\u001b[0m                                Traceback (most recent call last)",
      "Cell \u001b[0;32mIn[5], line 1\u001b[0m\n\u001b[0;32m----> 1\u001b[0m N,L,R \u001b[38;5;241m=\u001b[39m \u001b[38;5;28mtuple\u001b[39m(\u001b[38;5;28mmap\u001b[39m(\u001b[38;5;28mint\u001b[39m,\u001b[38;5;28minput\u001b[39m()\u001b[38;5;241m.\u001b[39msplit()))\n\u001b[1;32m      3\u001b[0m board \u001b[38;5;241m=\u001b[39m [\u001b[38;5;28mlist\u001b[39m(\u001b[38;5;28mmap\u001b[39m(\u001b[38;5;28mint\u001b[39m,\u001b[38;5;28minput\u001b[39m()\u001b[38;5;241m.\u001b[39msplit())) \u001b[38;5;28;01mfor\u001b[39;00m _ \u001b[38;5;129;01min\u001b[39;00m \u001b[38;5;28mrange\u001b[39m(N)]\n\u001b[1;32m      5\u001b[0m stop \u001b[38;5;241m=\u001b[39m \u001b[38;5;28;01mFalse\u001b[39;00m\n",
      "\u001b[0;31mValueError\u001b[0m: not enough values to unpack (expected 3, got 0)"
     ]
    }
   ],
   "source": [
    "N,L,R = tuple(map(int,input().split()))\n",
    "\n",
    "board = [list(map(int,input().split())) for _ in range(N)]\n",
    "\n",
    "stop = False\n",
    "\n",
    "def make_union(now,union,isVisit):\n",
    "    row,col = now\n",
    "    isVisit[row][col] = True\n",
    "    if row > 0 and not isVisit[row-1][col] and L <= abs(board[row][col] - board[row-1][col]) <= R:\n",
    "        union.append((row-1,col))\n",
    "        isVisit[row-1][col] = True\n",
    "    if row < N-1 and not isVisit[row+1][col] and L <= abs(board[row][col] - board[row+1][col]) <= R:\n",
    "        union.append((row+1,col))\n",
    "        isVisit[row+1][col] = True\n",
    "    if col >0 and not isVisit[row][col-1] and L <= abs(board[row][col] - board[row][col-1]) <= R:\n",
    "        union.append((row,col-1))\n",
    "        isVisit[row][col-1] = True\n",
    "    if col < N-1 and not isVisit[row][col+1] and L <= abs(board[row][col] - board[row][col+1]) <= R:\n",
    "        union.append((row,col+1))\n",
    "        isVisit[row][col+1] = True\n",
    "\n",
    "def bfs(start_r,start_c,isVisit):\n",
    "    global stop\n",
    "    stk = [(start_r,start_c)]\n",
    "    union = []\n",
    "    while stk:\n",
    "        curr_loc = stk.pop()\n",
    "        union.append(curr_loc)\n",
    "        make_union(curr_loc,union,isVisit)\n",
    "    if len(union) == 1:\n",
    "        stop = True\n",
    "        return\n",
    "    total = 0\n",
    "    for row,col in union:\n",
    "        total += board[row][col]\n",
    "    new = total // len(union)\n",
    "    for row,col in union:\n",
    "        board[row][col] = new\n",
    "\n",
    "cnt = 0\n",
    "while not stop:\n",
    "    cnt += 1\n",
    "    isVisit = [[False] * N for _ in range(N)]\n",
    "    for row in range(N):\n",
    "        for col in range(N):\n",
    "            if isVisit[row][col]:\n",
    "                continue\n",
    "            bfs(row,col,isVisit)\n",
    "    \n",
    "    print(board)\n",
    "    \n",
    "\n",
    "print(cnt)"
   ]
  },
  {
   "cell_type": "code",
   "execution_count": 15,
   "metadata": {},
   "outputs": [
    {
     "ename": "NameError",
     "evalue": "name 'dc' is not defined",
     "output_type": "error",
     "traceback": [
      "\u001b[0;31m---------------------------------------------------------------------------\u001b[0m",
      "\u001b[0;31mNameError\u001b[0m                                 Traceback (most recent call last)",
      "Cell \u001b[0;32mIn[15], line 28\u001b[0m\n\u001b[1;32m     25\u001b[0m     func(crop,(r\u001b[38;5;241m+\u001b[39mcrop,c\u001b[38;5;241m+\u001b[39mcrop))\n\u001b[1;32m     26\u001b[0m     res \u001b[38;5;241m+\u001b[39m\u001b[38;5;241m=\u001b[39m \u001b[38;5;124m\"\u001b[39m\u001b[38;5;124m)\u001b[39m\u001b[38;5;124m\"\u001b[39m\n\u001b[0;32m---> 28\u001b[0m \u001b[43mfunc\u001b[49m\u001b[43m(\u001b[49m\u001b[43mN\u001b[49m\u001b[43m,\u001b[49m\u001b[43m(\u001b[49m\u001b[38;5;241;43m0\u001b[39;49m\u001b[43m,\u001b[49m\u001b[38;5;241;43m0\u001b[39;49m\u001b[43m)\u001b[49m\u001b[43m)\u001b[49m\n\u001b[1;32m     29\u001b[0m \u001b[38;5;28mprint\u001b[39m(res)\n",
      "Cell \u001b[0;32mIn[15], line 17\u001b[0m, in \u001b[0;36mfunc\u001b[0;34m(size, pos)\u001b[0m\n\u001b[1;32m     15\u001b[0m \u001b[38;5;28;01mglobal\u001b[39;00m res\n\u001b[1;32m     16\u001b[0m r,c \u001b[38;5;241m=\u001b[39m pos\n\u001b[0;32m---> 17\u001b[0m \u001b[38;5;28;01mif\u001b[39;00m size \u001b[38;5;241m==\u001b[39m \u001b[38;5;241m1\u001b[39m \u001b[38;5;129;01mor\u001b[39;00m \u001b[43mcheck\u001b[49m\u001b[43m(\u001b[49m\u001b[43msize\u001b[49m\u001b[43m,\u001b[49m\u001b[43mpos\u001b[49m\u001b[43m)\u001b[49m:\n\u001b[1;32m     18\u001b[0m     res \u001b[38;5;241m+\u001b[39m\u001b[38;5;241m=\u001b[39m \u001b[38;5;28mstr\u001b[39m(image[r][c])\n\u001b[1;32m     19\u001b[0m     \u001b[38;5;28;01mreturn\u001b[39;00m\n",
      "Cell \u001b[0;32mIn[15], line 10\u001b[0m, in \u001b[0;36mcheck\u001b[0;34m(size, pos)\u001b[0m\n\u001b[1;32m      8\u001b[0m \u001b[38;5;28;01mfor\u001b[39;00m dr \u001b[38;5;129;01min\u001b[39;00m \u001b[38;5;28mrange\u001b[39m(size):\n\u001b[1;32m      9\u001b[0m     \u001b[38;5;28;01mfor\u001b[39;00m fc \u001b[38;5;129;01min\u001b[39;00m \u001b[38;5;28mrange\u001b[39m(size):\n\u001b[0;32m---> 10\u001b[0m         \u001b[38;5;28;01mif\u001b[39;00m image[r\u001b[38;5;241m+\u001b[39mdr][c\u001b[38;5;241m+\u001b[39m\u001b[43mdc\u001b[49m] \u001b[38;5;241m!=\u001b[39m base:\n\u001b[1;32m     11\u001b[0m             \u001b[38;5;28;01mreturn\u001b[39;00m \u001b[38;5;28;01mFalse\u001b[39;00m\n\u001b[1;32m     12\u001b[0m \u001b[38;5;28;01mreturn\u001b[39;00m \u001b[38;5;28;01mTrue\u001b[39;00m\n",
      "\u001b[0;31mNameError\u001b[0m: name 'dc' is not defined"
     ]
    }
   ],
   "source": [
    "N = int(input())\n",
    "image = [list(map(int,input().split())) for _ in range(N)]\n",
    "res = \"\"\n",
    "\n",
    "def check(size,pos):\n",
    "    r,c = pos\n",
    "    base = image[r][c]\n",
    "    for dr in range(size):\n",
    "        for dc in range(size):\n",
    "            if image[r+dr][c+dc] != base:\n",
    "                return False\n",
    "    return True\n",
    "\n",
    "def func(size,pos):\n",
    "    global res\n",
    "    r,c = pos\n",
    "    if size == 1 or check(size,pos):\n",
    "        res += str(image[r][c])\n",
    "        return\n",
    "    res += \"(\"\n",
    "    crop = size // 2\n",
    "    func(crop,(r,c))\n",
    "    func(crop,(r,c+crop))\n",
    "    func(crop,(r+crop,c))\n",
    "    func(crop,(r+crop,c+crop))\n",
    "    res += \")\"\n",
    "    \n",
    "func(N,(0,0))\n",
    "print(res)"
   ]
  },
  {
   "cell_type": "code",
   "execution_count": null,
   "metadata": {},
   "outputs": [],
   "source": []
  }
 ],
 "metadata": {
  "kernelspec": {
   "display_name": "Python 3",
   "language": "python",
   "name": "python3"
  },
  "language_info": {
   "codemirror_mode": {
    "name": "ipython",
    "version": 3
   },
   "file_extension": ".py",
   "mimetype": "text/x-python",
   "name": "python",
   "nbconvert_exporter": "python",
   "pygments_lexer": "ipython3",
   "version": "3.8.10"
  }
 },
 "nbformat": 4,
 "nbformat_minor": 2
}
