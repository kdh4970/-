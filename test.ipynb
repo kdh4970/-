{
 "cells": [
  {
   "cell_type": "code",
   "execution_count": 2,
   "metadata": {},
   "outputs": [
    {
     "name": "stdout",
     "output_type": "stream",
     "text": [
      "['7', '3']\n",
      "[1, 4]\n"
     ]
    }
   ],
   "source": [
    "d={}\n",
    "d[\"7\"]=1\n",
    "d[\"3\"]=4\n",
    "\n",
    "# get sorted keys and values by value\n",
    "sorted_keys = sorted(d, key=d.get)\n",
    "sorted_values = sorted(d.values())\n",
    "\n",
    "print(sorted_keys)\n",
    "print(sorted_values)"
   ]
  },
  {
   "cell_type": "code",
   "execution_count": null,
   "metadata": {},
   "outputs": [],
   "source": []
  }
 ],
 "metadata": {
  "kernelspec": {
   "display_name": "Python 3",
   "language": "python",
   "name": "python3"
  },
  "language_info": {
   "codemirror_mode": {
    "name": "ipython",
    "version": 3
   },
   "file_extension": ".py",
   "mimetype": "text/x-python",
   "name": "python",
   "nbconvert_exporter": "python",
   "pygments_lexer": "ipython3",
   "version": "3.12.3"
  }
 },
 "nbformat": 4,
 "nbformat_minor": 2
}
