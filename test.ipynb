{
 "cells": [
  {
   "cell_type": "code",
   "execution_count": 5,
   "metadata": {},
   "outputs": [
    {
     "ename": "ValueError",
     "evalue": "not enough values to unpack (expected 3, got 0)",
     "output_type": "error",
     "traceback": [
      "\u001b[0;31m---------------------------------------------------------------------------\u001b[0m",
      "\u001b[0;31mValueError\u001b[0m                                Traceback (most recent call last)",
      "Cell \u001b[0;32mIn[5], line 1\u001b[0m\n\u001b[0;32m----> 1\u001b[0m N,L,R \u001b[38;5;241m=\u001b[39m \u001b[38;5;28mtuple\u001b[39m(\u001b[38;5;28mmap\u001b[39m(\u001b[38;5;28mint\u001b[39m,\u001b[38;5;28minput\u001b[39m()\u001b[38;5;241m.\u001b[39msplit()))\n\u001b[1;32m      3\u001b[0m board \u001b[38;5;241m=\u001b[39m [\u001b[38;5;28mlist\u001b[39m(\u001b[38;5;28mmap\u001b[39m(\u001b[38;5;28mint\u001b[39m,\u001b[38;5;28minput\u001b[39m()\u001b[38;5;241m.\u001b[39msplit())) \u001b[38;5;28;01mfor\u001b[39;00m _ \u001b[38;5;129;01min\u001b[39;00m \u001b[38;5;28mrange\u001b[39m(N)]\n\u001b[1;32m      5\u001b[0m stop \u001b[38;5;241m=\u001b[39m \u001b[38;5;28;01mFalse\u001b[39;00m\n",
      "\u001b[0;31mValueError\u001b[0m: not enough values to unpack (expected 3, got 0)"
     ]
    }
   ],
   "source": [
    "N,L,R = tuple(map(int,input().split()))\n",
    "\n",
    "board = [list(map(int,input().split())) for _ in range(N)]\n",
    "\n",
    "stop = False\n",
    "\n",
    "def make_union(now,union,isVisit):\n",
    "    row,col = now\n",
    "    isVisit[row][col] = True\n",
    "    if row > 0 and not isVisit[row-1][col] and L <= abs(board[row][col] - board[row-1][col]) <= R:\n",
    "        union.append((row-1,col))\n",
    "        isVisit[row-1][col] = True\n",
    "    if row < N-1 and not isVisit[row+1][col] and L <= abs(board[row][col] - board[row+1][col]) <= R:\n",
    "        union.append((row+1,col))\n",
    "        isVisit[row+1][col] = True\n",
    "    if col >0 and not isVisit[row][col-1] and L <= abs(board[row][col] - board[row][col-1]) <= R:\n",
    "        union.append((row,col-1))\n",
    "        isVisit[row][col-1] = True\n",
    "    if col < N-1 and not isVisit[row][col+1] and L <= abs(board[row][col] - board[row][col+1]) <= R:\n",
    "        union.append((row,col+1))\n",
    "        isVisit[row][col+1] = True\n",
    "\n",
    "def bfs(start_r,start_c,isVisit):\n",
    "    global stop\n",
    "    stk = [(start_r,start_c)]\n",
    "    union = []\n",
    "    while stk:\n",
    "        curr_loc = stk.pop()\n",
    "        union.append(curr_loc)\n",
    "        make_union(curr_loc,union,isVisit)\n",
    "    if len(union) == 1:\n",
    "        stop = True\n",
    "        return\n",
    "    total = 0\n",
    "    for row,col in union:\n",
    "        total += board[row][col]\n",
    "    new = total // len(union)\n",
    "    for row,col in union:\n",
    "        board[row][col] = new\n",
    "\n",
    "cnt = 0\n",
    "while not stop:\n",
    "    cnt += 1\n",
    "    isVisit = [[False] * N for _ in range(N)]\n",
    "    for row in range(N):\n",
    "        for col in range(N):\n",
    "            if isVisit[row][col]:\n",
    "                continue\n",
    "            bfs(row,col,isVisit)\n",
    "    \n",
    "    print(board)\n",
    "    \n",
    "\n",
    "print(cnt)"
   ]
  },
  {
   "cell_type": "code",
   "execution_count": 4,
   "metadata": {},
   "outputs": [
    {
     "name": "stdout",
     "output_type": "stream",
     "text": [
      "True\n"
     ]
    }
   ],
   "source": [
    "from collections import deque\n",
    "\n",
    "temp = -1\n",
    "\n",
    "\n",
    "\n",
    "if temp:\n",
    "    print(\"True\")\n",
    "else:\n",
    "    print(\"False\")"
   ]
  },
  {
   "cell_type": "code",
   "execution_count": 12,
   "metadata": {},
   "outputs": [
    {
     "name": "stdout",
     "output_type": "stream",
     "text": [
      "5 4 2\n"
     ]
    }
   ],
   "source": []
  },
  {
   "cell_type": "code",
   "execution_count": null,
   "metadata": {},
   "outputs": [],
   "source": []
  }
 ],
 "metadata": {
  "kernelspec": {
   "display_name": "Python 3",
   "language": "python",
   "name": "python3"
  },
  "language_info": {
   "codemirror_mode": {
    "name": "ipython",
    "version": 3
   },
   "file_extension": ".py",
   "mimetype": "text/x-python",
   "name": "python",
   "nbconvert_exporter": "python",
   "pygments_lexer": "ipython3",
   "version": "3.8.10"
  }
 },
 "nbformat": 4,
 "nbformat_minor": 2
}
