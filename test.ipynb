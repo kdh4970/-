{
 "cells": [
  {
   "cell_type": "code",
   "execution_count": 191,
   "metadata": {},
   "outputs": [],
   "source": [
    "import sys\n",
    "from collections import deque\n",
    "\n",
    "# def input():\n",
    "    # return sys.stdin.readline().rstrip()\n",
    "\n",
    "N = int(input())\n",
    "q = deque(enumerate(map(int,input().split())))\n",
    "\n"
   ]
  },
  {
   "cell_type": "code",
   "execution_count": 190,
   "metadata": {},
   "outputs": [
    {
     "name": "stdout",
     "output_type": "stream",
     "text": [
      "1 4 5 3 2\n"
     ]
    }
   ],
   "source": [
    "\n",
    "res = []\n",
    "\n",
    "for _ in range(N):\n",
    "    idx,offset = q.popleft()\n",
    "    res.append(idx+1)\n",
    "\n",
    "    if offset > 0:\n",
    "        q.rotate(-offset+1)\n",
    "    elif offset < 0:\n",
    "        q.rotate(-offset)\n",
    "    \n",
    "print(*res)"
   ]
  },
  {
   "cell_type": "code",
   "execution_count": null,
   "metadata": {},
   "outputs": [],
   "source": []
  }
 ],
 "metadata": {
  "kernelspec": {
   "display_name": "Python 3",
   "language": "python",
   "name": "python3"
  },
  "language_info": {
   "codemirror_mode": {
    "name": "ipython",
    "version": 3
   },
   "file_extension": ".py",
   "mimetype": "text/x-python",
   "name": "python",
   "nbconvert_exporter": "python",
   "pygments_lexer": "ipython3",
   "version": "3.8.10"
  }
 },
 "nbformat": 4,
 "nbformat_minor": 2
}
