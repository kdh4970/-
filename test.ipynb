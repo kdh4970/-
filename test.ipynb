{
 "cells": [
  {
   "cell_type": "code",
   "execution_count": 1,
   "metadata": {},
   "outputs": [
    {
     "name": "stdout",
     "output_type": "stream",
     "text": [
      "4\n"
     ]
    }
   ],
   "source": [
    "import sys\n",
    "\n",
    "# def input():return sys.stdin.readline().rstrip()\n",
    "\n",
    "class MaxHeap:\n",
    "    def __init__(self) -> None:\n",
    "        self._heap = []\n",
    "    def __call__(self,target : int) -> int:\n",
    "        return self._heap[target]\n",
    "    def insert(self,val):\n",
    "        self._heap.append(val)\n",
    "        level = len(self._heap) // 2\n",
    "        idx = len(self._heap) - 1\n",
    "        for _ in range(level):\n",
    "            if \n",
    "\n",
    "heap = []\n",
    "\n",
    "N = int(input())\n",
    "\n",
    "for _ in range(N):\n",
    "\n"
   ]
  },
  {
   "cell_type": "code",
   "execution_count": 22,
   "metadata": {},
   "outputs": [
    {
     "name": "stdout",
     "output_type": "stream",
     "text": [
      "[0, 1, 2, 3, 0, 0, 3, 3, 0, 3, 0, 2, 1, 1, 0, 1]\n"
     ]
    }
   ],
   "source": []
  },
  {
   "cell_type": "code",
   "execution_count": 6,
   "metadata": {},
   "outputs": [
    {
     "name": "stdout",
     "output_type": "stream",
     "text": [
      "12\n"
     ]
    }
   ],
   "source": []
  },
  {
   "cell_type": "code",
   "execution_count": null,
   "metadata": {},
   "outputs": [],
   "source": []
  }
 ],
 "metadata": {
  "kernelspec": {
   "display_name": "Python 3",
   "language": "python",
   "name": "python3"
  },
  "language_info": {
   "codemirror_mode": {
    "name": "ipython",
    "version": 3
   },
   "file_extension": ".py",
   "mimetype": "text/x-python",
   "name": "python",
   "nbconvert_exporter": "python",
   "pygments_lexer": "ipython3",
   "version": "3.8.10"
  }
 },
 "nbformat": 4,
 "nbformat_minor": 2
}
