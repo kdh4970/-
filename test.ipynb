{
 "cells": [
  {
   "cell_type": "code",
   "execution_count": 9,
   "metadata": {},
   "outputs": [
    {
     "name": "stdout",
     "output_type": "stream",
     "text": [
      "[[1, 0, 1, 1, 1, 1], [1, 0, 1, 0, 1, 0], [1, 0, 1, 0, 1, 1], [1, 1, 1, 0, 1, 1]]\n"
     ]
    }
   ],
   "source": [
    "import sys\n",
    "from collections import deque\n",
    "def input():\n",
    "    return sys.stdin.readline().rstrip()\n",
    "\n",
    "\n",
    "def can_go(map,curr,arr):\n",
    "    rows = len(map)\n",
    "    cols = len(map[0])\n",
    "    now_r, now_c = curr\n",
    "    if now_r > 0 and map[now_r-1][now_c] == 1:\n",
    "        map[now_r-1][now_c] = 0\n",
    "        arr.append((now_r-1,now_c))\n",
    "    if now_r < rows - 1 and map[now_r+1][now_c] == 1:\n",
    "        map[now_r+1][now_c] = 0\n",
    "        arr.append((now_r+1,now_c))\n",
    "    if now_c > 0 and map[now_r][now_c-1] == 1:\n",
    "        map[now_r][now_c-1] = 0\n",
    "        arr.append((now_r,now_c-1))\n",
    "    if now_c < cols - 1 and map[now_r][now_c+1] == 1:\n",
    "        map[now_r][now_c+1] = 0\n",
    "        arr.append((now_r,now_c+1))\n",
    "    return map,arr\n",
    "\n",
    "def bfs(map,start):\n",
    "    q = deque([start])\n",
    "    count = 0\n",
    "    while q:\n",
    "        count += 1\n",
    "        now = q.popleft()\n",
    "        map[now[0]][now[1]] = 0\n",
    "        map,q = can_go(map,now,q)\n",
    "    return map,count\n",
    "\n",
    "N = int(input())\n",
    "board = []\n",
    "for _ in range(N):\n",
    "    input_s = input()\n",
    "    board.append([int(s) for s in input_s])\n",
    "\n",
    "building = []\n",
    "\n",
    "for row in range(N):\n",
    "    for col in range(N):\n",
    "        if board[row][col]:\n",
    "            board,count = bfs(board,(row,col))\n",
    "            building.append(count)\n",
    "\n",
    "print(len(building))\n",
    "building.sort()\n",
    "for _ in building:\n",
    "    print(_)"
   ]
  },
  {
   "cell_type": "code",
   "execution_count": 6,
   "metadata": {},
   "outputs": [
    {
     "name": "stdout",
     "output_type": "stream",
     "text": [
      "12\n"
     ]
    }
   ],
   "source": []
  },
  {
   "cell_type": "code",
   "execution_count": 13,
   "metadata": {},
   "outputs": [
    {
     "data": {
      "text/plain": [
       "True"
      ]
     },
     "execution_count": 13,
     "metadata": {},
     "output_type": "execute_result"
    }
   ],
   "source": [
    "a=[[1, 0, 1, 1, 1, 1], [1, 0, 1, 0, 1, 0], [1, 0, 1, 0, 1, 1], [1, 1, 1, 0, 1, 1]]\n",
    "all(a)"
   ]
  },
  {
   "cell_type": "code",
   "execution_count": null,
   "metadata": {},
   "outputs": [],
   "source": []
  }
 ],
 "metadata": {
  "kernelspec": {
   "display_name": "Python 3",
   "language": "python",
   "name": "python3"
  },
  "language_info": {
   "codemirror_mode": {
    "name": "ipython",
    "version": 3
   },
   "file_extension": ".py",
   "mimetype": "text/x-python",
   "name": "python",
   "nbconvert_exporter": "python",
   "pygments_lexer": "ipython3",
   "version": "3.8.10"
  }
 },
 "nbformat": 4,
 "nbformat_minor": 2
}
