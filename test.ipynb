{
 "cells": [
  {
   "cell_type": "code",
   "execution_count": 8,
   "metadata": {},
   "outputs": [
    {
     "name": "stdout",
     "output_type": "stream",
     "text": [
      "4\n"
     ]
    }
   ],
   "source": [
    "def calculate_parked_cars(spaces, cars, data):\n",
    "    parked_cars = cars\n",
    "    for action in data:\n",
    "        if action == 'I':\n",
    "            if parked_cars < spaces:\n",
    "                parked_cars += 1\n",
    "            else:\n",
    "                return \"error\"  # 주차장이 꽉 찼으나 차량이 들어오려고 할 때 에러\n",
    "        elif action == 'O':\n",
    "            if parked_cars > 0:\n",
    "                parked_cars -= 1\n",
    "            else:\n",
    "                return \"error\"  # 주차장에 차량이 없는데 나가려고 할 때 에러\n",
    "    return parked_cars\n",
    "\n",
    "while True:\n",
    "    spaces, cars = map(int, input().split())\n",
    "    if spaces == 0 and cars == 0:\n",
    "        break  # 종료 조건: 입력이 0 0일 때\n",
    "    data = input().strip()\n",
    "    result = calculate_parked_cars(spaces, cars, data)\n",
    "    print(result)\n"
   ]
  },
  {
   "cell_type": "code",
   "execution_count": 9,
   "metadata": {},
   "outputs": [
    {
     "name": "stdout",
     "output_type": "stream",
     "text": [
      "[[0, 0, 0, 0], [0, 0, 0, 0], [0, 0, 0, 0], [0, 0, 0, 0]]\n"
     ]
    }
   ],
   "source": []
  },
  {
   "cell_type": "code",
   "execution_count": 12,
   "metadata": {},
   "outputs": [
    {
     "name": "stdout",
     "output_type": "stream",
     "text": [
      "5 4 2\n"
     ]
    }
   ],
   "source": []
  },
  {
   "cell_type": "code",
   "execution_count": null,
   "metadata": {},
   "outputs": [],
   "source": []
  }
 ],
 "metadata": {
  "kernelspec": {
   "display_name": "Python 3",
   "language": "python",
   "name": "python3"
  },
  "language_info": {
   "codemirror_mode": {
    "name": "ipython",
    "version": 3
   },
   "file_extension": ".py",
   "mimetype": "text/x-python",
   "name": "python",
   "nbconvert_exporter": "python",
   "pygments_lexer": "ipython3",
   "version": "3.8.10"
  }
 },
 "nbformat": 4,
 "nbformat_minor": 2
}
