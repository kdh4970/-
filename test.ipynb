{
 "cells": [
  {
   "cell_type": "code",
   "execution_count": 1,
   "metadata": {},
   "outputs": [
    {
     "ename": "KeyboardInterrupt",
     "evalue": "",
     "output_type": "error",
     "traceback": [
      "\u001b[0;31m---------------------------------------------------------------------------\u001b[0m",
      "\u001b[0;31mKeyboardInterrupt\u001b[0m                         Traceback (most recent call last)",
      "\u001b[1;32m/home/do/CodingTest-Baekjoon/test.ipynb 셀 1\u001b[0m line \u001b[0;36m3\n\u001b[1;32m     <a href='vscode-notebook-cell:/home/do/CodingTest-Baekjoon/test.ipynb#W0sZmlsZQ%3D%3D?line=33'>34</a>\u001b[0m             dist \u001b[39m+\u001b[39m\u001b[39m=\u001b[39m \u001b[39m1\u001b[39m\n\u001b[1;32m     <a href='vscode-notebook-cell:/home/do/CodingTest-Baekjoon/test.ipynb#W0sZmlsZQ%3D%3D?line=34'>35</a>\u001b[0m         \u001b[39mmap\u001b[39m,q \u001b[39m=\u001b[39m can_go(\u001b[39mmap\u001b[39m,new_map,(curr_r,curr_c),q,dist)\n\u001b[0;32m---> <a href='vscode-notebook-cell:/home/do/CodingTest-Baekjoon/test.ipynb#W0sZmlsZQ%3D%3D?line=36'>37</a>\u001b[0m n,m \u001b[39m=\u001b[39m \u001b[39mlist\u001b[39m(\u001b[39mmap\u001b[39m(\u001b[39mint\u001b[39m, \u001b[39minput\u001b[39;49m()\u001b[39m.\u001b[39msplit()))\n\u001b[1;32m     <a href='vscode-notebook-cell:/home/do/CodingTest-Baekjoon/test.ipynb#W0sZmlsZQ%3D%3D?line=37'>38</a>\u001b[0m start \u001b[39m=\u001b[39m []\n\u001b[1;32m     <a href='vscode-notebook-cell:/home/do/CodingTest-Baekjoon/test.ipynb#W0sZmlsZQ%3D%3D?line=38'>39</a>\u001b[0m board \u001b[39m=\u001b[39m []\n",
      "\u001b[1;32m/home/do/CodingTest-Baekjoon/test.ipynb 셀 1\u001b[0m line \u001b[0;36m6\n\u001b[1;32m      <a href='vscode-notebook-cell:/home/do/CodingTest-Baekjoon/test.ipynb#W0sZmlsZQ%3D%3D?line=4'>5</a>\u001b[0m \u001b[39mdef\u001b[39;00m \u001b[39minput\u001b[39m():\n\u001b[0;32m----> <a href='vscode-notebook-cell:/home/do/CodingTest-Baekjoon/test.ipynb#W0sZmlsZQ%3D%3D?line=5'>6</a>\u001b[0m     \u001b[39mreturn\u001b[39;00m sys\u001b[39m.\u001b[39;49mstdin\u001b[39m.\u001b[39;49mreadline()\u001b[39m.\u001b[39mrstrip()\n",
      "\u001b[0;31mKeyboardInterrupt\u001b[0m: "
     ]
    }
   ],
   "source": [
    "import sys\n",
    "from collections import deque\n",
    "# 0 : 익지 않은 토마도\n",
    "# 1 : 익은 토마도\n",
    "# -1 : 빈 공간\n",
    "\n",
    "def input(): return sys.stdin.readline().rstrip()\n",
    "\n",
    "def can_go(map,curr,arr,dist):\n",
    "    rows ,cols = len(map),len(map[0])\n",
    "    now_r,now_c = curr\n",
    "    if now_r > 0 and map[now_r-14][now_c] == 0:\n",
    "        arr.append((now_r-1,now_c))\n",
    "        map[now_r-1][now_c] = dist\n",
    "    if now_r < rows - 1 and map[now_r+1][now_c] == 0:\n",
    "        arr.append((now_r+1,now_c))\n",
    "        map[now_r+1][now_c] = dist\n",
    "    if now_c > 0 and map[now_r][now_c-1] == 0:\n",
    "        arr.append((now_r,now_c-1))\n",
    "        map[now_r][now_c-1] = dist\n",
    "    if now_c < cols - 1 and map[now_r][now_c+1] == 0:\n",
    "        arr.append((now_r,now_c+1))\n",
    "        map[now_r][now_c+1] = dist\n",
    "    return map,arr\n",
    "\n",
    "def bfs(map,start):\n",
    "    q=deque([start])\n",
    "    dist = 1\n",
    "    while q:\n",
    "        now = q.popleft()\n",
    "        dist = map[now[0]][now[1]]\n",
    "        map,q = can_go(map,now,q,dist)\n",
    "    return map\n",
    "\n",
    "def main():\n",
    "    M,N = list(map(int,input().split()))\n",
    "    board = []\n",
    "    start = []\n",
    "    for _ in range(N):\n",
    "        l = list(map(int,input().split()))\n",
    "        for __ in range(M):\n",
    "            if l[__] == 1:\n",
    "                start.append((_,__))        \n",
    "        board.append(l)\n",
    "\n",
    "    for idx,val in enumerate(board):\n",
    "        if all(x for x in val):\n",
    "            if idx == len(board)-1:\n",
    "                print(0)\n",
    "                return\n",
    "            continue\n",
    "        else: break\n",
    "\n",
    "    print(bfs(board,start))\n",
    "\n",
    "\n"
   ]
  },
  {
   "cell_type": "code",
   "execution_count": 18,
   "metadata": {},
   "outputs": [
    {
     "name": "stdout",
     "output_type": "stream",
     "text": [
      "False\n"
     ]
    }
   ],
   "source": [
    "a=[1, 0, 1]\n",
    "print(all(x for x in a))"
   ]
  },
  {
   "cell_type": "code",
   "execution_count": 13,
   "metadata": {},
   "outputs": [
    {
     "data": {
      "text/plain": [
       "True"
      ]
     },
     "execution_count": 13,
     "metadata": {},
     "output_type": "execute_result"
    }
   ],
   "source": [
    "a=[[1, 0, 1, 1, 1, 1], [1, 0, 1, 0, 1, 0], [1, 0, 1, 0, 1, 1], [1, 1, 1, 0, 1, 1]]\n",
    "all(a)"
   ]
  },
  {
   "cell_type": "code",
   "execution_count": null,
   "metadata": {},
   "outputs": [],
   "source": []
  }
 ],
 "metadata": {
  "kernelspec": {
   "display_name": "Python 3",
   "language": "python",
   "name": "python3"
  },
  "language_info": {
   "codemirror_mode": {
    "name": "ipython",
    "version": 3
   },
   "file_extension": ".py",
   "mimetype": "text/x-python",
   "name": "python",
   "nbconvert_exporter": "python",
   "pygments_lexer": "ipython3",
   "version": "3.8.10"
  }
 },
 "nbformat": 4,
 "nbformat_minor": 2
}
