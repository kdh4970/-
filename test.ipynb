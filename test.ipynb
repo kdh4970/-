{
 "cells": [
  {
   "cell_type": "code",
   "execution_count": 39,
   "metadata": {},
   "outputs": [
    {
     "name": "stdout",
     "output_type": "stream",
     "text": [
      "[True, False, False, False]\n",
      "[False, True, False, False]\n",
      "[False, False, True, False]\n",
      "[True, False, True, False]\n",
      "[False, False, False, True]\n",
      "[True, False, False, True]\n",
      "[False, True, False, True]\n",
      "0\n"
     ]
    }
   ],
   "source": [
    "# N x N 체스판 위에 퀸 N개를 서로 공격할 수 없게 놓는 문제\n",
    "# 0~n-1 줄마다 하나씩\n",
    "# 종료조건 : 모든 퀸을 다 배치했을 때\n",
    "\n",
    "N = int(input())\n",
    "\n",
    "cnt = 0\n",
    "lst = []\n",
    "isused_row = [False] * N\n",
    "# / 방향 대각선, 인덱스는 row + col\n",
    "isused_cross1 = [False] * (2*N-1)  # 1 1 / 2 3 / 3 5 / 4 7 / n 2n-1\n",
    "# \\ 방향 대각선, 인덱스는 col - row + N - 1\n",
    "isused_cross2 = [False] * (2*N-1)\n",
    "\n",
    "def nqueen(curr):\n",
    "    global cnt\n",
    "    if curr == N:\n",
    "        cnt += 1\n",
    "        return\n",
    "    else:\n",
    "        for _ in range(N):\n",
    "            if isused_row[_] or isused_cross1[curr+_] or isused_cross2[_-curr+N-1]:\n",
    "                return\n",
    "            else:\n",
    "                lst.append((curr,_))\n",
    "                isused_row[_] = True\n",
    "                isused_cross1[curr+_] = True\n",
    "                isused_cross2[_-curr+N-1] = True\n",
    "                nqueen(curr+1)\n",
    "                lst.pop()\n",
    "                isused_row[_] = False\n",
    "                isused_cross1[curr+_] = False\n",
    "                isused_cross2[_-curr+N-1] = False\n",
    "        \n",
    "nqueen(0)\n",
    "print(cnt)"
   ]
  },
  {
   "cell_type": "code",
   "execution_count": 18,
   "metadata": {},
   "outputs": [
    {
     "data": {
      "text/plain": [
       "32"
      ]
     },
     "execution_count": 18,
     "metadata": {},
     "output_type": "execute_result"
    }
   ],
   "source": []
  },
  {
   "cell_type": "code",
   "execution_count": 12,
   "metadata": {},
   "outputs": [
    {
     "name": "stdout",
     "output_type": "stream",
     "text": [
      "5 4 2\n"
     ]
    }
   ],
   "source": []
  },
  {
   "cell_type": "code",
   "execution_count": null,
   "metadata": {},
   "outputs": [],
   "source": []
  }
 ],
 "metadata": {
  "kernelspec": {
   "display_name": "Python 3",
   "language": "python",
   "name": "python3"
  },
  "language_info": {
   "codemirror_mode": {
    "name": "ipython",
    "version": 3
   },
   "file_extension": ".py",
   "mimetype": "text/x-python",
   "name": "python",
   "nbconvert_exporter": "python",
   "pygments_lexer": "ipython3",
   "version": "3.8.10"
  }
 },
 "nbformat": 4,
 "nbformat_minor": 2
}
